{
 "cells": [
  {
   "cell_type": "markdown",
   "metadata": {},
   "source": [
    "## Representation Learning for sparse matrix\n",
    "In this post, I show an example of using Deep Learning techniques with PyTorch to learn compact representation of data like with PCA. The example assume that you are familiar with the theory of the neural networks and Python.\n",
    "\n",
    "I will use the Denoizing Autoencoders a powerful class of neural networks with remarkable applications (recommandation system, pre-training neural networks, etc.). \n",
    "The Denoising Autoencoder is an extension of a classical autoencoder with capability to handle some of the input values to zero (sparse matrix)\n",
    "\n",
    "Denoizing Autoencoders encodes the input values x, using a function f. It then decodes the encoded values f(x), using a function g, to create output values identical to the input values. It ignore the training error on all 0 input. "
   ]
  },
  {
   "cell_type": "markdown",
   "metadata": {},
   "source": [
    "### Overview\n",
    "- Requirements\n",
    "- Load Python modules and dataset\n",
    "- Create model\n",
    "- Train Model\n",
    "- Evaluate Model\n",
    "- Save and load model weights to predict new cases"
   ]
  },
  {
   "cell_type": "markdown",
   "metadata": {},
   "source": [
    "### 1- Requirements\n",
    "- Python 3.6\n",
    "- Pandas\n",
    "- Numpy\n",
    "- Matplotlib\n",
    "- PyTorch\n",
    "- Scikit Learn"
   ]
  },
  {
   "cell_type": "markdown",
   "metadata": {},
   "source": [
    "### 2- Load Python modules and create input dataset"
   ]
  },
  {
   "cell_type": "code",
   "execution_count": 1,
   "metadata": {},
   "outputs": [],
   "source": [
    "# import package\n",
    "import pandas as pd\n",
    "import numpy as np\n",
    "import torch\n",
    "import pickle\n",
    "\n",
    "import torch.nn as nn\n",
    "import torch.nn.functional as F\n",
    "import matplotlib.pyplot as plt\n",
    "\n",
    "from sklearn.utils import shuffle\n",
    "from sklearn.metrics import mean_squared_error, r2_score\n",
    "from torch.autograd import Variable\n",
    "\n",
    "# set numpy seed for reproducibility\n",
    "np.random.seed(seed=123)"
   ]
  },
  {
   "cell_type": "code",
   "execution_count": 2,
   "metadata": {},
   "outputs": [],
   "source": [
    "# Create input dataset\n",
    "dataset = [[1.0, 1, -1, -1],\n",
    "          [-1, -1, 1, 1],\n",
    "          [-1, -1, 1, 1],\n",
    "          [1, 1, -1, -1],\n",
    "          [1, 0, -1, -1],\n",
    "          [1, 1, 0, -1],\n",
    "          [0, 1, -1, -1],\n",
    "          [1, 1, -1, 0]]"
   ]
  },
  {
   "cell_type": "code",
   "execution_count": 3,
   "metadata": {},
   "outputs": [],
   "source": [
    "# create X_train and y_train (x_train = y_train)\n",
    "x_train = dataset\n",
    "y_train = dataset"
   ]
  },
  {
   "cell_type": "markdown",
   "metadata": {},
   "source": [
    "### 3- Create model"
   ]
  },
  {
   "cell_type": "code",
   "execution_count": 4,
   "metadata": {},
   "outputs": [],
   "source": [
    "# set model parameters\n",
    "batch_size = len(x_train) # 50\n",
    "num_epochs = 100\n",
    "learning_rate = 0.01\n",
    "size_hidden = 100\n",
    "n_feature = 4\n",
    "n_output = 4\n",
    "batch_no = int(len(x_train) / batch_size)"
   ]
  },
  {
   "cell_type": "code",
   "execution_count": 5,
   "metadata": {},
   "outputs": [],
   "source": [
    "# create network architecture \n",
    "class autoencoder(nn.Module):\n",
    "    def __init__(self):\n",
    "        super(autoencoder, self).__init__()\n",
    "        self.encoder = nn.Sequential(\n",
    "            nn.Linear(4, 100),\n",
    "            nn.ReLU(),\n",
    "            nn.Linear(100, 25))\n",
    "        self.decoder = nn.Sequential(\n",
    "            nn.Linear(25, 100),\n",
    "            nn.ReLU(),\n",
    "            nn.Linear(100, 4))\n",
    "\n",
    "    def forward(self, x):\n",
    "        x = self.encoder(x)\n",
    "        x = self.decoder(x)\n",
    "        return x\n",
    "\n",
    "# create network\n",
    "net = autoencoder()"
   ]
  },
  {
   "cell_type": "code",
   "execution_count": 6,
   "metadata": {},
   "outputs": [],
   "source": [
    "# define loss\n",
    "criterion = nn.MSELoss()"
   ]
  },
  {
   "cell_type": "code",
   "execution_count": 7,
   "metadata": {},
   "outputs": [],
   "source": [
    "# define optimizer\n",
    "optimizer = torch.optim.Adam(net.parameters(), lr=learning_rate, weight_decay=learning_rate)"
   ]
  },
  {
   "cell_type": "code",
   "execution_count": 8,
   "metadata": {},
   "outputs": [],
   "source": [
    "# define function to ignore loss on zero input\n",
    "def denoising(input_tensor, output_tensor):\n",
    "    \"\"\"\n",
    "    Transform each prediction to zero for every zero input.\n",
    "    It will ignore loss calculation on zero input.\n",
    "    \"\"\"\n",
    "    for i in range(len(input_tensor)):\n",
    "        for j in range(len(input_tensor[i])):\n",
    "            if float(input_tensor[i][j]) == 0.0:\n",
    "                output_tensor[i][j] = 0.0\n",
    "    return output_tensor"
   ]
  },
  {
   "cell_type": "markdown",
   "metadata": {},
   "source": [
    "### 4- Train Model"
   ]
  },
  {
   "cell_type": "code",
   "execution_count": 9,
   "metadata": {},
   "outputs": [
    {
     "name": "stdout",
     "output_type": "stream",
     "text": [
      "Epoch 10 loss:  0.08637816458940506\n",
      "Epoch 20 loss:  0.027067460119724274\n",
      "Epoch 30 loss:  0.002571309683844447\n",
      "Epoch 40 loss:  0.0027002289425581694\n",
      "Epoch 50 loss:  0.0019928456749767065\n",
      "Epoch 60 loss:  0.0012991742696613073\n",
      "Epoch 70 loss:  0.0013055313611403108\n",
      "Epoch 80 loss:  0.001304413890466094\n",
      "Epoch 90 loss:  0.0013053277507424355\n",
      "Epoch 100 loss:  0.001307744882069528\n"
     ]
    }
   ],
   "source": [
    "# Start training\n",
    "epoch_loss = []\n",
    "running_loss = 0\n",
    "\n",
    "for epoch in range(num_epochs):\n",
    "    \n",
    "    for i in range(batch_no):\n",
    "        # get training mini-batch\n",
    "        start = i * batch_size\n",
    "        end = start + batch_size\n",
    "        inputs = Variable(torch.tensor(x_train[start:end]).float())\n",
    "        labels = Variable(torch.tensor(y_train[start:end]).float())\n",
    "        \n",
    "        # zero the parameter gradients\n",
    "        optimizer.zero_grad()\n",
    "\n",
    "        # forward\n",
    "        outputs = net(inputs)\n",
    "        \n",
    "        # transform prediction on 0 input to O\n",
    "        dae_outputs = denoising(inputs, outputs)\n",
    "        \n",
    "        # backward\n",
    "        loss = criterion(dae_outputs, labels)\n",
    "        loss.backward()\n",
    "        \n",
    "        # optimize (update weights)\n",
    "        optimizer.step()   \n",
    "    \n",
    "        # increment loss\n",
    "        running_loss += loss.item()\n",
    "        \n",
    "    if (epoch+1) % 10 == 0:    \n",
    "        print('Epoch {}'.format(epoch+1), \"loss: \", running_loss)\n",
    "    epoch_loss.append(running_loss)\n",
    "    running_loss = 0.0"
   ]
  },
  {
   "cell_type": "markdown",
   "metadata": {},
   "source": [
    "### 5- Evaluate Model"
   ]
  },
  {
   "cell_type": "code",
   "execution_count": 10,
   "metadata": {},
   "outputs": [
    {
     "name": "stdout",
     "output_type": "stream",
     "text": [
      "R2 Score: 0.841334813425972\n",
      "MSE: 0.11487810989019576\n"
     ]
    }
   ],
   "source": [
    "# get accuracy \n",
    "preds = net(torch.tensor(x_train).float())\n",
    "preds = preds.detach().numpy()\n",
    "\n",
    "print (\"R2 Score: {0}\".format(r2_score(preds, np.array(x_train))))\n",
    "print (\"MSE: {0}\".format(mean_squared_error(preds, np.array(x_train))))"
   ]
  },
  {
   "cell_type": "code",
   "execution_count": 11,
   "metadata": {},
   "outputs": [
    {
     "data": {
      "image/png": "[encoded data removed]",
      "text/plain": [
       "<Figure size 432x288 with 1 Axes>"
      ]
     },
     "metadata": {
      "needs_background": "light"
     },
     "output_type": "display_data"
    }
   ],
   "source": [
    "# show loss\n",
    "plt.plot(epoch_loss)\n",
    "plt.title('Model error diagnostic\\n')\n",
    "plt.ylabel('loss')\n",
    "plt.xlabel('epoch')\n",
    "plt.show()"
   ]
  },
  {
   "cell_type": "markdown",
   "metadata": {},
   "source": [
    "### 6- Save and load model weights to predict new cases"
   ]
  },
  {
   "cell_type": "code",
   "execution_count": 12,
   "metadata": {},
   "outputs": [
    {
     "name": "stdout",
     "output_type": "stream",
     "text": [
      "predict: [[ 1.035948   1.0361155 -1.0446995 -1.0386586]]\n",
      "predict: [[ 1.035948   1.0361155 -1.0446995 -1.0386586]]\n"
     ]
    }
   ],
   "source": [
    "# Save model\n",
    "pickle.dump(net, open(\"../model/dae_autoencoder.p\", \"wb\"))\n",
    "\n",
    "# load model\n",
    "loaded_net = pickle.load(open(\"../model/dae_autoencoder.p\", \"rb\"))\n",
    "\n",
    "# make prediction on trained model\n",
    "pred = net(torch.tensor([[1.0, 1, -1, -1]]).float())\n",
    "print (\"predict: {0}\".format(pred.detach().numpy()))\n",
    "\n",
    "# make prediction on loaded model\n",
    "pred = loaded_net(torch.tensor([[1.0, 1, -1, -1]]).float())\n",
    "print (\"predict: {0}\".format(pred.detach().numpy()))"
   ]
  },
  {
   "cell_type": "code",
   "execution_count": null,
   "metadata": {},
   "outputs": [],
   "source": []
  }
 ],
 "metadata": {
  "kernelspec": {
   "display_name": "Python 3",
   "language": "python",
   "name": "python3"
  },
  "language_info": {
   "codemirror_mode": {
    "name": "ipython",
    "version": 3
   },
   "file_extension": ".py",
   "mimetype": "text/x-python",
   "name": "python",
   "nbconvert_exporter": "python",
   "pygments_lexer": "ipython3",
   "version": "3.6.7"
  }
 },
 "nbformat": 4,
 "nbformat_minor": 2
}
