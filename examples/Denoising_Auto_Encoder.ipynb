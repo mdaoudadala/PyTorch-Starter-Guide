{
 "cells": [
  {
   "cell_type": "code",
   "execution_count": 25,
   "metadata": {},
   "outputs": [],
   "source": [
    "# import package\n",
    "import pandas as pd\n",
    "import numpy as np\n",
    "import torch\n",
    "import torch.nn.functional as F\n",
    "\n",
    "import matplotlib.pyplot as plt\n",
    "\n",
    "# set numpy seed for reproducibility\n",
    "np.random.seed(seed=123)"
   ]
  },
  {
   "cell_type": "code",
   "execution_count": 44,
   "metadata": {},
   "outputs": [],
   "source": [
    "dataset = [[1.0, 1, -1, -1],\n",
    "          [-1, -1, 1, 1],\n",
    "          [-1, -1, 1, 1],\n",
    "          [1, 1, -1, -1],\n",
    "          [1, 0, -1, -1],\n",
    "          [1, 1, 0, -1],\n",
    "          [0, 1, -1, -1],\n",
    "          [1, 1, -1, 0]]"
   ]
  },
  {
   "cell_type": "code",
   "execution_count": 45,
   "metadata": {},
   "outputs": [],
   "source": [
    "x_train = dataset\n",
    "y_train = dataset"
   ]
  },
  {
   "cell_type": "code",
   "execution_count": 46,
   "metadata": {},
   "outputs": [],
   "source": [
    "batch_size = len(x_train) # 50\n",
    "num_epochs = 100\n",
    "learning_rate = 0.01\n",
    "size_hidden = 100\n",
    "n_feature = 4\n",
    "n_output = 4\n",
    "batch_no = int(len(x_train) / batch_size)"
   ]
  },
  {
   "cell_type": "code",
   "execution_count": 127,
   "metadata": {},
   "outputs": [],
   "source": [
    "from torch import nn\n",
    "from torch.autograd import Variable\n",
    "\n",
    "class autoencoder(nn.Module):\n",
    "    def __init__(self):\n",
    "        super(autoencoder, self).__init__()\n",
    "        self.encoder = nn.Sequential(\n",
    "            nn.Linear(4, 100),\n",
    "            nn.ReLU(),\n",
    "            nn.Linear(100, 25))\n",
    "        self.decoder = nn.Sequential(\n",
    "            nn.Linear(25, 100),\n",
    "            nn.ReLU(),\n",
    "            nn.Linear(100, 4))\n",
    "\n",
    "    def forward(self, x):\n",
    "        x = self.encoder(x)\n",
    "        x = self.decoder(x)\n",
    "        return x\n",
    "\n",
    "net = autoencoder()"
   ]
  },
  {
   "cell_type": "code",
   "execution_count": 128,
   "metadata": {},
   "outputs": [],
   "source": [
    "criterion = nn.MSELoss()\n",
    "optimizer = torch.optim.Adam(net.parameters(), lr=learning_rate, weight_decay=1e-5)"
   ]
  },
  {
   "cell_type": "code",
   "execution_count": 129,
   "metadata": {},
   "outputs": [],
   "source": [
    "def denoising(input_tensor, output_tensor):\n",
    "    for i in range(len(input_tensor)):\n",
    "        for j in range(len(input_tensor[i])):\n",
    "            if float(input_tensor[i][j]) == 0.0:\n",
    "                output_tensor[i][j] = 0.0\n",
    "    return output_tensor"
   ]
  },
  {
   "cell_type": "code",
   "execution_count": 130,
   "metadata": {},
   "outputs": [
    {
     "data": {
      "text/plain": [
       "tensor([[1.2000, 0.8000, 0.0000, 2.3000, 0.0000, 1.8000],\n",
       "        [1.0000, 0.0000, 0.0000, 2.0000, 3.0000, 1.0000]])"
      ]
     },
     "execution_count": 130,
     "metadata": {},
     "output_type": "execute_result"
    }
   ],
   "source": [
    "x = torch.tensor([[1, 1, 0, 1, 0, 1], [1, 0, 0, 1, 1, 1]])\n",
    "y = torch.tensor([[1.2, 0.8, 0.9, 2.3, 3.2, 1.8], [1, 0.8, 0.9, 2, 3, 1]])\n",
    "denoising(x, y)"
   ]
  },
  {
   "cell_type": "code",
   "execution_count": 131,
   "metadata": {},
   "outputs": [
    {
     "name": "stdout",
     "output_type": "stream",
     "text": [
      "Epoch 1 loss:  0.9272454977035522\n",
      "Epoch 11 loss:  0.013974918983876705\n",
      "Epoch 21 loss:  0.006095705553889275\n",
      "Epoch 31 loss:  0.0014510368928313255\n",
      "Epoch 41 loss:  0.0006224928074516356\n",
      "Epoch 51 loss:  0.0002630316885188222\n",
      "Epoch 61 loss:  0.0001008296458167024\n",
      "Epoch 71 loss:  7.84692310844548e-05\n",
      "Epoch 81 loss:  3.5212753573432565e-05\n",
      "Epoch 91 loss:  1.63125223480165e-05\n"
     ]
    }
   ],
   "source": [
    "running_loss = 0\n",
    "for epoch in range(num_epochs):\n",
    "    \n",
    "    for i in range(batch_no):\n",
    "        start = i * batch_size\n",
    "        end = start + batch_size\n",
    "        inputs = Variable(torch.tensor(x_train[start:end]).float())\n",
    "        labels = Variable(torch.tensor(y_train[start:end]).float())\n",
    "        \n",
    "        # zero the parameter gradients\n",
    "        optimizer.zero_grad()\n",
    "\n",
    "        # forward + backward + optimize\n",
    "        outputs = net(inputs)\n",
    "        \n",
    "        # Start DAE\n",
    "        dae_outputs = denoising(inputs, outputs)\n",
    "        # End DAE\n",
    "        \n",
    "        #print(\"outputs\",outputs)\n",
    "        #print(\"outputs\",outputs,outputs.shape,\"labels\",labels, labels.shape)\n",
    "        loss = criterion(dae_outputs, labels)\n",
    "        loss.backward()\n",
    "        optimizer.step()\n",
    "\n",
    "        # print statistics\n",
    "        running_loss += loss.item()\n",
    "    if epoch % 10 == 0:    \n",
    "        print('Epoch {}'.format(epoch+1), \"loss: \", running_loss)\n",
    "    running_loss = 0.0"
   ]
  },
  {
   "cell_type": "code",
   "execution_count": 132,
   "metadata": {},
   "outputs": [
    {
     "name": "stdout",
     "output_type": "stream",
     "text": [
      "tensor([[ 1.,  1., -1., -1.],\n",
      "        [-1., -1.,  1.,  1.],\n",
      "        [-1., -1.,  1.,  1.],\n",
      "        [ 1.,  1., -1., -1.],\n",
      "        [ 1.,  0., -1., -1.],\n",
      "        [ 1.,  1.,  0., -1.],\n",
      "        [ 0.,  1., -1., -1.],\n",
      "        [ 1.,  1., -1.,  0.]])\n",
      "tensor([[ 0.9968,  1.0032, -0.9965, -1.0052],\n",
      "        [-1.0001, -0.9979,  1.0011,  0.9995],\n",
      "        [-1.0001, -0.9979,  1.0011,  0.9995],\n",
      "        [ 0.9968,  1.0032, -0.9965, -1.0052],\n",
      "        [ 1.0050,  0.0000, -1.0006, -0.9952],\n",
      "        [ 1.0038,  0.9948,  0.0000, -0.9973],\n",
      "        [ 0.0000,  0.9921, -1.0055, -0.9978],\n",
      "        [ 1.0001,  0.9968, -1.0004,  0.0000]], grad_fn=<CopySlices>)\n"
     ]
    }
   ],
   "source": [
    "print (inputs)\n",
    "print (outputs)"
   ]
  },
  {
   "cell_type": "code",
   "execution_count": 133,
   "metadata": {},
   "outputs": [
    {
     "name": "stdout",
     "output_type": "stream",
     "text": [
      "tensor([[ 1.,  1., -1., -1.],\n",
      "        [-1., -1.,  1.,  1.],\n",
      "        [-1., -1.,  1.,  1.],\n",
      "        [ 1.,  1., -1., -1.],\n",
      "        [ 1.,  0., -1., -1.],\n",
      "        [ 1.,  1.,  0., -1.],\n",
      "        [ 0.,  1., -1., -1.],\n",
      "        [ 1.,  1., -1.,  0.]])\n",
      "tensor([[ 0.9968,  1.0032, -0.9965, -1.0052],\n",
      "        [-1.0001, -0.9979,  1.0011,  0.9995],\n",
      "        [-1.0001, -0.9979,  1.0011,  0.9995],\n",
      "        [ 0.9968,  1.0032, -0.9965, -1.0052],\n",
      "        [ 1.0050,  0.0000, -1.0006, -0.9952],\n",
      "        [ 1.0038,  0.9948,  0.0000, -0.9973],\n",
      "        [ 0.0000,  0.9921, -1.0055, -0.9978],\n",
      "        [ 1.0001,  0.9968, -1.0004,  0.0000]], grad_fn=<CopySlices>)\n"
     ]
    }
   ],
   "source": [
    "print (inputs)\n",
    "print (outputs)"
   ]
  },
  {
   "cell_type": "code",
   "execution_count": 134,
   "metadata": {},
   "outputs": [
    {
     "name": "stdout",
     "output_type": "stream",
     "text": [
      "tensor([[ 0.6571,  0.6047, -0.6330, -0.6289]])\n"
     ]
    }
   ],
   "source": [
    "pred = net(Variable(torch.tensor([[1, 0, 0, 0]]).float()))\n",
    "print (pred.data)"
   ]
  },
  {
   "cell_type": "code",
   "execution_count": 135,
   "metadata": {},
   "outputs": [
    {
     "name": "stdout",
     "output_type": "stream",
     "text": [
      "tensor([[ 0.6571,  0.6047, -0.6330, -0.6289]])\n"
     ]
    }
   ],
   "source": [
    "pred = net(Variable(torch.tensor([[1, 0, 0, 0]]).float()))\n",
    "print (pred.data)"
   ]
  },
  {
   "cell_type": "code",
   "execution_count": 136,
   "metadata": {},
   "outputs": [
    {
     "name": "stdout",
     "output_type": "stream",
     "text": [
      "tensor([[ 0.7072,  0.7084, -0.6899, -0.7191]])\n"
     ]
    }
   ],
   "source": [
    "pred = net(Variable(torch.tensor([[0, 1, 0, 0]]).float()))\n",
    "print (pred.data)"
   ]
  },
  {
   "cell_type": "code",
   "execution_count": 137,
   "metadata": {},
   "outputs": [
    {
     "name": "stdout",
     "output_type": "stream",
     "text": [
      "tensor([[ 0.6548,  0.6414, -0.6987, -0.6681]])\n"
     ]
    }
   ],
   "source": [
    "pred = net(Variable(torch.tensor([[0, 0, -1, 0]]).float()))\n",
    "print (pred.data)"
   ]
  },
  {
   "cell_type": "code",
   "execution_count": 138,
   "metadata": {},
   "outputs": [
    {
     "name": "stdout",
     "output_type": "stream",
     "text": [
      "tensor([[ 0.6546,  0.6299, -0.6408, -0.6676]])\n"
     ]
    }
   ],
   "source": [
    "pred = net(Variable(torch.tensor([[0, 0, 0, -1]]).float()))\n",
    "print (pred.data)"
   ]
  },
  {
   "cell_type": "code",
   "execution_count": 126,
   "metadata": {},
   "outputs": [
    {
     "data": {
      "text/plain": [
       "tensor(1.0035, grad_fn=<SelectBackward>)"
      ]
     },
     "execution_count": 126,
     "metadata": {},
     "output_type": "execute_result"
    }
   ],
   "source": [
    "outputs[0][1]"
   ]
  },
  {
   "cell_type": "code",
   "execution_count": 100,
   "metadata": {},
   "outputs": [
    {
     "data": {
      "text/plain": [
       "tensor(0.9962, grad_fn=<SelectBackward>)"
      ]
     },
     "execution_count": 100,
     "metadata": {},
     "output_type": "execute_result"
    }
   ],
   "source": [
    "outputs[0][1]"
   ]
  },
  {
   "cell_type": "code",
   "execution_count": null,
   "metadata": {},
   "outputs": [],
   "source": []
  }
 ],
 "metadata": {
  "kernelspec": {
   "display_name": "Python 3",
   "language": "python",
   "name": "python3"
  },
  "language_info": {
   "codemirror_mode": {
    "name": "ipython",
    "version": 3
   },
   "file_extension": ".py",
   "mimetype": "text/x-python",
   "name": "python",
   "nbconvert_exporter": "python",
   "pygments_lexer": "ipython3",
   "version": "3.6.7"
  }
 },
 "nbformat": 4,
 "nbformat_minor": 2
}
