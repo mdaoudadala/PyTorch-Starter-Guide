{
 "cells": [
  {
   "cell_type": "code",
   "execution_count": 25,
   "metadata": {},
   "outputs": [],
   "source": [
    "# import package\n",
    "import pandas as pd\n",
    "import numpy as np\n",
    "import torch\n",
    "import torch.nn.functional as F\n",
    "\n",
    "from torch import nn\n",
    "from torch.autograd import Variable\n",
    "\n",
    "\n",
    "import matplotlib.pyplot as plt\n",
    "\n",
    "# set numpy seed for reproducibility\n",
    "np.random.seed(seed=123)"
   ]
  },
  {
   "cell_type": "code",
   "execution_count": 47,
   "metadata": {},
   "outputs": [],
   "source": [
    "# f1, f2, f3, f4, action_cost, validation, reward\n",
    "action_data = np.array([[1, 1, 0, 0, 5, 1, 1],\n",
    "           [1, 1, 0, 0, 5, 1, 1],\n",
    "           [1, 1, 0, 0, 1, 0, 0],\n",
    "           [1, 1, 0, 0, 2, 0, 0],\n",
    "           [0, 0, 0, 1, 5, 0, 0],\n",
    "           [0, 1, 0, 0, 5, 1, 0],           \n",
    "           [0, 0, 0, 1, 1, 0, 0],\n",
    "           [0, 1, 0, 0, 2, 0, 0],\n",
    "           [1, 1, 0, 0, 2, 0, 0],\n",
    "           [1, 1, 0, 0, 1, 0, 0]])"
   ]
  },
  {
   "cell_type": "code",
   "execution_count": 48,
   "metadata": {},
   "outputs": [],
   "source": [
    "valid_action_data = np.array([[1, 1, 0, 0, 5, 1, 1],\n",
    "               [1, 1, 0, 0, 5, 1, 1],\n",
    "               [0, 1, 0, 0, 5, 1, 0]])          "
   ]
  },
  {
   "cell_type": "code",
   "execution_count": 64,
   "metadata": {},
   "outputs": [],
   "source": [
    "validation_dim_in = 4\n",
    "validation_dim_out = 2\n",
    "adjustor = 1\n",
    "batch_size = 1\n",
    "batch_no = int(len(valid_action_data) / batch_size)\n",
    "learning_rate = 0.01\n",
    "num_epochs = 100"
   ]
  },
  {
   "cell_type": "code",
   "execution_count": 65,
   "metadata": {},
   "outputs": [],
   "source": [
    "class validation_predictor(nn.Module):\n",
    "    def __init__(self):\n",
    "        super(validation_predictor, self).__init__()\n",
    "        self.predictor = nn.Sequential(\n",
    "            nn.Linear(dim_in, 100),\n",
    "            nn.ReLU(),\n",
    "            nn.Linear(100, dim_out),\n",
    "            nn.Sigmoid())\n",
    "\n",
    "    def forward(self, x):\n",
    "        x = self.predictor(x)\n",
    "        return x\n",
    "\n",
    "action_validation_net = validation_predictor()"
   ]
  },
  {
   "cell_type": "code",
   "execution_count": 66,
   "metadata": {},
   "outputs": [],
   "source": [
    "criterion = torch.nn.CrossEntropyLoss()\n",
    "optimizer = torch.optim.SGD(action_validation_net.parameters(), lr=learning_rate)"
   ]
  },
  {
   "cell_type": "code",
   "execution_count": 70,
   "metadata": {},
   "outputs": [
    {
     "name": "stdout",
     "output_type": "stream",
     "text": [
      "Epoch 1 loss:  2.093771517276764\n",
      "Epoch 11 loss:  1.8020508289337158\n",
      "Epoch 21 loss:  1.5906140804290771\n",
      "Epoch 31 loss:  1.4440287947654724\n",
      "Epoch 41 loss:  1.3420450687408447\n",
      "Epoch 51 loss:  1.269386649131775\n",
      "Epoch 61 loss:  1.2160888314247131\n",
      "Epoch 71 loss:  1.1758913397789001\n",
      "Epoch 81 loss:  1.1447618007659912\n",
      "Epoch 91 loss:  1.120108425617218\n"
     ]
    }
   ],
   "source": [
    "running_loss = 0.0\n",
    "x_train = valid_action_data[:, :4]\n",
    "y_train = valid_action_data[:, 5]\n",
    "#inputs = Variable(torch.tensor(x_train).float())\n",
    "#labels = Variable(torch.tensor(y_train).float())\n",
    "\n",
    "\n",
    "for epoch in range(num_epochs):\n",
    "    \n",
    "    for i in range(batch_no):\n",
    "        start = i * batch_size\n",
    "        end = start + batch_size\n",
    "        inputs = Variable(torch.tensor(x_train[start:end]).float())\n",
    "        labels = Variable(torch.tensor(y_train[start:end]).long())\n",
    "        \n",
    "        # zero the parameter gradients\n",
    "        optimizer.zero_grad()\n",
    "\n",
    "        # forward + backward + optimize\n",
    "        outputs = action_validation_net(inputs)\n",
    "        #print(\"outputs\",outputs)\n",
    "        #print(\"outputs\",outputs,outputs.shape,\"labels\",labels, labels.shape)\n",
    "        loss = criterion(outputs, labels)\n",
    "        loss.backward()\n",
    "        optimizer.step()\n",
    "\n",
    "        # print statistics\n",
    "        running_loss += loss.item()\n",
    "    if epoch % 10 == 0:     \n",
    "        print('Epoch {}'.format(epoch+1), \"loss: \",running_loss)\n",
    "    running_loss = 0.0"
   ]
  },
  {
   "cell_type": "code",
   "execution_count": 78,
   "metadata": {},
   "outputs": [
    {
     "name": "stdout",
     "output_type": "stream",
     "text": [
      "1.0\n",
      "tensor([0.9212, 0.9212, 0.8936], grad_fn=<MaxBackward0>)\n"
     ]
    },
    {
     "name": "stderr",
     "output_type": "stream",
     "text": [
      "/usr/lib/python3.6/site-packages/ipykernel_launcher.py:6: UserWarning: To copy construct from a tensor, it is recommended to use sourceTensor.clone().detach() or sourceTensor.clone().detach().requires_grad_(True), rather than torch.tensor(sourceTensor).\n",
      "  \n"
     ]
    }
   ],
   "source": [
    "from sklearn.metrics import accuracy_score, precision_score, recall_score\n",
    "\n",
    "inputs = Variable(torch.tensor(x_train).float())\n",
    "labels = Variable(torch.tensor(y_train).long())\n",
    "    \n",
    "predict_out = action_validation_net(torch.tensor(inputs).float())\n",
    "y_proba, y_pred = torch.max(predict_out, 1)\n",
    "\n",
    "print (accuracy_score(labels, y_pred))\n",
    "print (y_proba)"
   ]
  },
  {
   "cell_type": "code",
   "execution_count": 79,
   "metadata": {},
   "outputs": [
    {
     "data": {
      "text/plain": [
       "tensor([0.9212, 0.9212, 0.8936], grad_fn=<MulBackward0>)"
      ]
     },
     "execution_count": 79,
     "metadata": {},
     "output_type": "execute_result"
    }
   ],
   "source": [
    "def action(action_validation_preds, adjustor):\n",
    "    return action_validation_preds * adjustor\n",
    "\n",
    "action(y_proba, adjustor)"
   ]
  },
  {
   "cell_type": "code",
   "execution_count": 89,
   "metadata": {},
   "outputs": [],
   "source": [
    "actions_weights =  [-0.2, -0.1, 0, 0.1, 0.2]"
   ]
  },
  {
   "cell_type": "code",
   "execution_count": 90,
   "metadata": {},
   "outputs": [],
   "source": [
    "actions = [(1 + i) * adjustor for i in actions_weights]"
   ]
  },
  {
   "cell_type": "code",
   "execution_count": 91,
   "metadata": {},
   "outputs": [
    {
     "data": {
      "text/plain": [
       "[0.8, 0.9, 1, 1.1, 1.2]"
      ]
     },
     "execution_count": 91,
     "metadata": {},
     "output_type": "execute_result"
    }
   ],
   "source": [
    "actions"
   ]
  },
  {
   "cell_type": "code",
   "execution_count": 92,
   "metadata": {},
   "outputs": [
    {
     "data": {
      "text/plain": [
       "tensor([0.9212, 0.9212, 0.8936], grad_fn=<MulBackward0>)"
      ]
     },
     "execution_count": 92,
     "metadata": {},
     "output_type": "execute_result"
    }
   ],
   "source": [
    "action(y_proba, actions[2])"
   ]
  },
  {
   "cell_type": "code",
   "execution_count": 93,
   "metadata": {},
   "outputs": [
    {
     "data": {
      "text/plain": [
       "tensor([1.0133, 1.0133, 0.9829], grad_fn=<MulBackward0>)"
      ]
     },
     "execution_count": 93,
     "metadata": {},
     "output_type": "execute_result"
    }
   ],
   "source": [
    "action(y_proba, actions[3])"
   ]
  },
  {
   "cell_type": "code",
   "execution_count": 94,
   "metadata": {},
   "outputs": [
    {
     "data": {
      "text/plain": [
       "tensor([1.1054, 1.1054, 1.0723], grad_fn=<MulBackward0>)"
      ]
     },
     "execution_count": 94,
     "metadata": {},
     "output_type": "execute_result"
    }
   ],
   "source": [
    "action(y_proba, actions[4])"
   ]
  },
  {
   "cell_type": "code",
   "execution_count": null,
   "metadata": {},
   "outputs": [],
   "source": [
    "action_cost = 0\n",
    "action_validation_rate = 0\n",
    "reward = 0\n",
    "env = [action_cost, action_validation_rate]"
   ]
  },
  {
   "cell_type": "code",
   "execution_count": null,
   "metadata": {},
   "outputs": [],
   "source": [
    "q_net_dim_in = len(env)\n",
    "q_net_dim_out = len(actions)\n",
    "batch_size = 1\n",
    "batch_no = int(len(valid_action_data) / batch_size)\n",
    "learning_rate = 0.01\n",
    "num_epochs = 100"
   ]
  },
  {
   "cell_type": "code",
   "execution_count": 95,
   "metadata": {},
   "outputs": [],
   "source": [
    "class Q_Net(nn.Module):\n",
    "    # define nn\n",
    "    def __init__(self):\n",
    "        super(Q_Net, self).__init__()\n",
    "        self.q_network = nn.Sequential(\n",
    "            nn.Linear(q_net_dim_in, 100),\n",
    "            nn.ReLU(),\n",
    "            nn.Linear(100, 100),\n",
    "            nn.ReLU(),\n",
    "            nn.Linear(100, q_net_dim_out)\n",
    "\n",
    "    def forward(self, x):\n",
    "        x = self.q_network(x)   \n",
    "        return x\n"
   ]
  },
  {
   "cell_type": "code",
   "execution_count": null,
   "metadata": {},
   "outputs": [],
   "source": [
    "class Q_Target_Net(nn.Module):\n",
    "    # define nn\n",
    "    def __init__(self):\n",
    "        super(Q_Target_Net, self).__init__()\n",
    "        self.q_target_network = nn.Sequential(\n",
    "            nn.Linear(q_net_dim_in, 100),\n",
    "            nn.ReLU(),\n",
    "            nn.Linear(100, 100),\n",
    "            nn.ReLU(),\n",
    "            nn.Linear(100, q_net_dim_out)\n",
    "\n",
    "    def forward(self, x):\n",
    "        x = self.q_target_network(x)   \n",
    "        return x\n"
   ]
  },
  {
   "cell_type": "code",
   "execution_count": null,
   "metadata": {},
   "outputs": [],
   "source": [
    "class Reward_Net(nn.Module):\n",
    "    # define nn\n",
    "    def __init__(self):\n",
    "        super(Net, self).__init__()\n",
    "        self.fc1 = nn.Linear(4, 100)\n",
    "        self.fc2 = nn.Linear(100, 100)\n",
    "        self.fc3 = nn.Linear(100, 3)\n",
    "\n",
    "    def forward(self, X):\n",
    "        X = F.relu(self.fc1(X))\n",
    "        X = self.fc2(X)\n",
    "        X = self.fc3(X)\n",
    "        X = self.softmax(X)\n",
    "\n",
    "        return X"
   ]
  },
  {
   "cell_type": "code",
   "execution_count": null,
   "metadata": {},
   "outputs": [],
   "source": [
    "criterion = torch.nn.CrossEntropyLoss()"
   ]
  },
  {
   "cell_type": "code",
   "execution_count": null,
   "metadata": {},
   "outputs": [],
   "source": [
    "optimizer = torch.optim.SGD(net.parameters(), lr=learning_rate)"
   ]
  }
 ],
 "metadata": {
  "kernelspec": {
   "display_name": "Python 3",
   "language": "python",
   "name": "python3"
  },
  "language_info": {
   "codemirror_mode": {
    "name": "ipython",
    "version": 3
   },
   "file_extension": ".py",
   "mimetype": "text/x-python",
   "name": "python",
   "nbconvert_exporter": "python",
   "pygments_lexer": "ipython3",
   "version": "3.6.7"
  }
 },
 "nbformat": 4,
 "nbformat_minor": 2
}
