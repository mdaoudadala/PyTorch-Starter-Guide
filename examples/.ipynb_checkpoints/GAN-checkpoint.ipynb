{
 "cells": [
  {
   "cell_type": "markdown",
   "metadata": {},
   "source": [
    "## Generative Adversarial Network\n",
    "In this post, I show an example of using Deep Learning techniques with PyTorch to generate sequence. The example assume that you are familiar with the theory of the neural networks and Python.\n",
    "\n",
    "I will use a the Generative Adversarial Networks a powerful class of neural networks with remarkable applications. They essentially consist of a system of two neural networks — the Generator and the Discriminator — dueling each other.\n",
    "\n",
    "Given a set of target samples, the Generator tries to produce samples that can fool the Discriminator into believing they are real. The Discriminator tries to resolve real (target) samples from fake (generated) samples. Using this iterative training approach, we eventually end up with a Generator that is really good at generating samples similar to the target samples."
   ]
  },
  {
   "cell_type": "markdown",
   "metadata": {},
   "source": [
    "### Overview\n",
    "- Requirements\n",
    "- Load Python modules and dataset\n",
    "- Create model\n",
    "- Train Model\n",
    "- Evaluate Model\n",
    "- Save and load model weights to predict new cases"
   ]
  },
  {
   "cell_type": "markdown",
   "metadata": {},
   "source": [
    "### 1- Requirements\n",
    "- Python 3.6\n",
    "- Pandas\n",
    "- Numpy\n",
    "- Matplotlib\n",
    "- PyTorch\n",
    "- Scikit Learn"
   ]
  },
  {
   "cell_type": "markdown",
   "metadata": {},
   "source": [
    "### 2- Load Python modules and create input dataset"
   ]
  },
  {
   "cell_type": "code",
   "execution_count": 1,
   "metadata": {},
   "outputs": [],
   "source": [
    "# import package\n",
    "import pandas as pd\n",
    "import numpy as np\n",
    "import torch\n",
    "import pickle\n",
    "\n",
    "import torch.nn as nn\n",
    "import torch.nn.functional as F\n",
    "import matplotlib.pyplot as plt\n",
    "\n",
    "from sklearn.utils import shuffle\n",
    "from sklearn.metrics import accuracy_score\n",
    "from torch.autograd import Variable\n",
    "\n",
    "# set numpy seed for reproducibility\n",
    "np.random.seed(seed=123)"
   ]
  },
  {
   "cell_type": "code",
   "execution_count": 2,
   "metadata": {},
   "outputs": [],
   "source": [
    "# Create input dataset\n",
    "x = [[39,40,41], [1,2,3], [4,5,6], [3,4,5], [9,10,11], [200,201,202], [123,124,125]]\n",
    "y = [1,1,1,1,1,1,1]"
   ]
  },
  {
   "cell_type": "markdown",
   "metadata": {},
   "source": [
    "### 3- Create model"
   ]
  },
  {
   "cell_type": "code",
   "execution_count": 3,
   "metadata": {},
   "outputs": [],
   "source": [
    "# set model parameters\n",
    "dim_fake_in = 100\n",
    "dim_fake_out = 3\n",
    "dim_real_in = 3\n",
    "dim_real_out = 1\n",
    "\n",
    "batch_size = 1\n",
    "batch_no = int(len(x)/batch_size)\n",
    "num_epoch = 1000\n",
    "learning_rate = 0.001"
   ]
  },
  {
   "cell_type": "code",
   "execution_count": 4,
   "metadata": {},
   "outputs": [],
   "source": [
    "# create Discriminator network architecture \n",
    "class discriminator(nn.Module):\n",
    "    def __init__(self):\n",
    "        super(discriminator, self).__init__()\n",
    "        self.dis = nn.Sequential(\n",
    "            nn.Linear(dim_real_in, 100),\n",
    "            nn.Sigmoid(),\n",
    "            nn.Linear(100, 100),\n",
    "            nn.ReLU(),\n",
    "            nn.Linear(100, dim_real_out), \n",
    "            nn.Sigmoid()\n",
    "        )\n",
    "\n",
    "    def forward(self, x):\n",
    "        x = self.dis(x)\n",
    "        return x\n",
    "    \n",
    "# create Discriminator network\n",
    "D = discriminator()"
   ]
  },
  {
   "cell_type": "code",
   "execution_count": 5,
   "metadata": {},
   "outputs": [],
   "source": [
    "# create Generator network architecture \n",
    "class generator(nn.Module):\n",
    "    def __init__(self):\n",
    "        super(generator, self).__init__()\n",
    "        self.gen = nn.Sequential(\n",
    "            nn.Linear(dim_fake_in, 100),\n",
    "            nn.Sigmoid(),\n",
    "            nn.Linear(100, 50),\n",
    "            nn.ReLU(),\n",
    "            nn.Linear(50, dim_fake_out)\n",
    "        )\n",
    "\n",
    "    def forward(self, x):\n",
    "        x = self.gen(x)\n",
    "        return x\n",
    "# create Generator network\n",
    "G = generator()"
   ]
  },
  {
   "cell_type": "code",
   "execution_count": 6,
   "metadata": {},
   "outputs": [],
   "source": [
    "# define loss\n",
    "criterion = nn.BCELoss()"
   ]
  },
  {
   "cell_type": "code",
   "execution_count": 7,
   "metadata": {},
   "outputs": [],
   "source": [
    "# define optimizer\n",
    "d_optimizer = torch.optim.Adam(D.parameters(), lr=learning_rate)\n",
    "g_optimizer = torch.optim.Adam(G.parameters(), lr=learning_rate)"
   ]
  },
  {
   "cell_type": "code",
   "execution_count": 8,
   "metadata": {},
   "outputs": [
    {
     "name": "stdout",
     "output_type": "stream",
     "text": [
      "tensor([-0.1808, -0.1003, -0.1873], grad_fn=<AddBackward0>)\n"
     ]
    }
   ],
   "source": [
    "# test generator\n",
    "z = Variable(torch.randn(dim_fake_in).float())\n",
    "fake_seq = G(z)\n",
    "print (fake_seq)"
   ]
  },
  {
   "cell_type": "code",
   "execution_count": 9,
   "metadata": {},
   "outputs": [
    {
     "name": "stdout",
     "output_type": "stream",
     "text": [
      "tensor([0.5017], grad_fn=<SigmoidBackward>)\n"
     ]
    }
   ],
   "source": [
    "# test generator\n",
    "z = Variable(torch.tensor(x[0]).float())\n",
    "fake_seq = D(z)\n",
    "print (fake_seq)"
   ]
  },
  {
   "cell_type": "markdown",
   "metadata": {},
   "source": [
    "### 4- Train Model"
   ]
  },
  {
   "cell_type": "code",
   "execution_count": 10,
   "metadata": {},
   "outputs": [
    {
     "name": "stdout",
     "output_type": "stream",
     "text": [
      "Epoch [0/1000], d_loss: 1.062689, g_loss: 0.794915 D real: 0.639999, D fake: 0.460115\n",
      "Epoch [100/1000], d_loss: 0.378118, g_loss: 1.337634 D real: 0.948839, D fake: 0.277907\n",
      "Epoch [200/1000], d_loss: 0.219801, g_loss: 1.752123 D real: 0.984445, D fake: 0.184638\n",
      "Epoch [300/1000], d_loss: 0.133874, g_loss: 0.801820 D real: 0.993817, D fake: 0.119858\n",
      "Epoch [400/1000], d_loss: 0.251780, g_loss: 1.543243 D real: 0.996067, D fake: 0.219514\n",
      "Epoch [500/1000], d_loss: 0.478349, g_loss: 1.154153 D real: 0.996733, D fake: 0.378163\n",
      "Epoch [600/1000], d_loss: 0.395429, g_loss: 0.543912 D real: 0.995940, D fake: 0.323864\n",
      "Epoch [700/1000], d_loss: 0.540883, g_loss: 0.956789 D real: 0.996948, D fake: 0.415983\n",
      "Epoch [800/1000], d_loss: 0.603323, g_loss: 0.673447 D real: 0.997140, D fake: 0.451440\n",
      "Epoch [900/1000], d_loss: 0.236715, g_loss: 0.596799 D real: 0.995436, D fake: 0.207165\n"
     ]
    }
   ],
   "source": [
    "# Start training\n",
    "epoch_d_loss = []\n",
    "epoch_g_loss = []\n",
    "\n",
    "for epoch in range(num_epoch):\n",
    "        \n",
    "    for i in range(len(x)):\n",
    "        real_seq = Variable(torch.tensor(x[i]).float())\n",
    "        real_label = Variable(torch.ones(y[i]).float())\n",
    "        fake_label = Variable(torch.zeros(y[i]).float())\n",
    "        \n",
    "        # == train discriminator == #\n",
    "        \n",
    "        # compute loss of real_seq\n",
    "        real_out = D(real_seq)\n",
    "        d_loss_real = criterion(real_out, real_label)\n",
    "        real_scores = real_out  # closer to 1 means better\n",
    "\n",
    "        # compute loss of fake_seq\n",
    "        z = Variable(torch.randn(dim_fake_in).float())\n",
    "        fake_seq = G(z)\n",
    "        fake_out = D(fake_seq)\n",
    "        d_loss_fake = criterion(fake_out, fake_label)\n",
    "        fake_scores = fake_out  # closer to 0 means better\n",
    "\n",
    "        # backpropagate and optimize\n",
    "        d_loss = d_loss_real + d_loss_fake\n",
    "        d_optimizer.zero_grad()\n",
    "        d_loss.backward()\n",
    "        d_optimizer.step()\n",
    "\n",
    "        # == train generator ==#\n",
    "        \n",
    "        # compute loss of fake_seq\n",
    "        z = Variable(torch.randn(dim_fake_in).float())\n",
    "        fake_seq = G(z)\n",
    "        output = D(fake_seq)\n",
    "        g_loss = criterion(output, real_label)\n",
    "\n",
    "        # backpropagate and optimize\n",
    "        g_optimizer.zero_grad()\n",
    "        g_loss.backward()\n",
    "        g_optimizer.step()\n",
    "    \n",
    "    epoch_g_loss.append(g_loss.item())\n",
    "    epoch_d_loss.append(d_loss.item())\n",
    "    \n",
    "    if epoch % 100 == 0:\n",
    "            print('Epoch [{}/{}], d_loss: {:.6f}, g_loss: {:.6f} '\n",
    "              'D real: {:.6f}, D fake: {:.6f}'.format(epoch, num_epoch, d_loss.item(), g_loss.item(),\n",
    "                  real_scores.data.mean(), fake_scores.data.mean()))"
   ]
  },
  {
   "cell_type": "markdown",
   "metadata": {},
   "source": [
    "### 5- Evaluate Model"
   ]
  },
  {
   "cell_type": "code",
   "execution_count": 11,
   "metadata": {},
   "outputs": [
    {
     "name": "stdout",
     "output_type": "stream",
     "text": [
      "tensor([5.1061, 6.0747, 7.0387], grad_fn=<AddBackward0>)\n",
      "tensor([0.0025], grad_fn=<SigmoidBackward>)\n"
     ]
    },
    {
     "data": {
      "text/plain": [
       "tensor([0.9958], grad_fn=<SigmoidBackward>)"
      ]
     },
     "execution_count": 11,
     "metadata": {},
     "output_type": "execute_result"
    }
   ],
   "source": [
    "# generate a sequence from random values with generator\n",
    "print (G(Variable(torch.randn(dim_fake_in).float())))\n",
    "\n",
    "# evaluate wrong seq with discriminator\n",
    "print (D(Variable(torch.tensor([2,113,107]).float())))\n",
    "\n",
    "# evaluate good seq with discriminator\n",
    "D(Variable(torch.tensor([200,201,202]).float()))"
   ]
  },
  {
   "cell_type": "code",
   "execution_count": 12,
   "metadata": {},
   "outputs": [
    {
     "data": {
      "image/png": "[encoded data removed]",
      "text/plain": [
       "<Figure size 432x288 with 1 Axes>"
      ]
     },
     "metadata": {
      "needs_background": "light"
     },
     "output_type": "display_data"
    }
   ],
   "source": [
    "# show loss\n",
    "plt.plot(epoch_d_loss)\n",
    "plt.title('Discriminator error diagnostic\\n')\n",
    "plt.ylabel('loss')\n",
    "plt.xlabel('epoch')\n",
    "plt.show()"
   ]
  },
  {
   "cell_type": "code",
   "execution_count": 13,
   "metadata": {},
   "outputs": [
    {
     "data": {
      "image/png": "[encoded data removed]",
      "text/plain": [
       "<Figure size 432x288 with 1 Axes>"
      ]
     },
     "metadata": {
      "needs_background": "light"
     },
     "output_type": "display_data"
    }
   ],
   "source": [
    "# show loss\n",
    "plt.plot(epoch_g_loss)\n",
    "plt.title('Generator error diagnostic\\n')\n",
    "plt.ylabel('loss')\n",
    "plt.xlabel('epoch')\n",
    "plt.show()"
   ]
  },
  {
   "cell_type": "markdown",
   "metadata": {},
   "source": [
    "### 6- Save and load model weights to predict new cases"
   ]
  },
  {
   "cell_type": "code",
   "execution_count": 14,
   "metadata": {},
   "outputs": [],
   "source": [
    "# Save models\n",
    "pickle.dump(D, open(\"../model/d_gan.p\", \"wb\"))\n",
    "pickle.dump(G, open(\"../model/g_gan.p\", \"wb\"))\n",
    "\n",
    "# load model\n",
    "loaded_D = pickle.load(open(\"../model/d_gan.p\", \"rb\"))\n",
    "loaded_G = pickle.load(open(\"../model/g_gan.p\", \"rb\"))"
   ]
  },
  {
   "cell_type": "code",
   "execution_count": 15,
   "metadata": {},
   "outputs": [
    {
     "name": "stdout",
     "output_type": "stream",
     "text": [
      "tensor([17.5793, 18.5836, 19.5261], grad_fn=<AddBackward0>)\n",
      "tensor([3.5882, 4.6585, 5.7039], grad_fn=<AddBackward0>)\n"
     ]
    }
   ],
   "source": [
    "# generate a sequence from random values with generator\n",
    "print (G(Variable(torch.randn(dim_fake_in).float())))\n",
    "\n",
    "# generate a sequence from random values with loaded generator\n",
    "print (loaded_G(Variable(torch.randn(dim_fake_in).float())))"
   ]
  },
  {
   "cell_type": "code",
   "execution_count": 16,
   "metadata": {},
   "outputs": [
    {
     "name": "stdout",
     "output_type": "stream",
     "text": [
      "tensor([0.0025], grad_fn=<SigmoidBackward>)\n",
      "tensor([0.0025], grad_fn=<SigmoidBackward>)\n"
     ]
    }
   ],
   "source": [
    "# evaluate wrong seq with discriminator\n",
    "print (D(Variable(torch.tensor([2,113,107]).float())))\n",
    "\n",
    "# evaluate wrong seq with loaded discriminator\n",
    "print (loaded_D(Variable(torch.tensor([2,113,107]).float())))"
   ]
  },
  {
   "cell_type": "code",
   "execution_count": 17,
   "metadata": {},
   "outputs": [
    {
     "name": "stdout",
     "output_type": "stream",
     "text": [
      "tensor([0.9958], grad_fn=<SigmoidBackward>)\n",
      "tensor([0.9958], grad_fn=<SigmoidBackward>)\n"
     ]
    }
   ],
   "source": [
    "# evaluate good seq with discriminator\n",
    "print (D(Variable(torch.tensor([200,201,202]).float())))\n",
    "\n",
    "# evaluate good seq with loaded discriminator\n",
    "print (loaded_D(Variable(torch.tensor([200,201,202]).float())))"
   ]
  },
  {
   "cell_type": "code",
   "execution_count": null,
   "metadata": {},
   "outputs": [],
   "source": []
  }
 ],
 "metadata": {
  "kernelspec": {
   "display_name": "Python 3",
   "language": "python",
   "name": "python3"
  },
  "language_info": {
   "codemirror_mode": {
    "name": "ipython",
    "version": 3
   },
   "file_extension": ".py",
   "mimetype": "text/x-python",
   "name": "python",
   "nbconvert_exporter": "python",
   "pygments_lexer": "ipython3",
   "version": "3.6.7"
  }
 },
 "nbformat": 4,
 "nbformat_minor": 2
}
