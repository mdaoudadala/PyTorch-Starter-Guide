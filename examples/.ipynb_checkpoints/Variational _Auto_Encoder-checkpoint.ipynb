{
 "cells": [
  {
   "cell_type": "markdown",
   "metadata": {},
   "source": [
    "## Constraint representation Learning\n",
    "In this post, I show an example of using Deep Learning techniques with PyTorch to learn compact representation of data like with PCA. The example assume that you are familiar with the theory of the neural networks and Python.\n",
    "\n",
    "I will use the Variational Autoencoders a variant of autoencoders (powerful class of neural networks with remarkable applications). \n",
    "\n",
    "Autoencoders encodes the input values x, using a function f. It then decodes the encoded values f(x), using a function g, to create output values identical to the input values.\n",
    "Variational autoencoder have a constraint on the encoding network that forces it to generate latent vectors that follow a unit gaussian distribution to handle another Deep Learning task (in order to generate new images, sounds or text we just need to sample a latent vector from the unit gaussian and pass it into the decoder)."
   ]
  },
  {
   "cell_type": "markdown",
   "metadata": {},
   "source": [
    "### Overview\n",
    "- Requirements\n",
    "- Load Python modules and dataset\n",
    "- Create model\n",
    "- Train Model\n",
    "- Evaluate Model\n",
    "- Save and load model weights to predict new cases"
   ]
  },
  {
   "cell_type": "markdown",
   "metadata": {},
   "source": [
    "### 1- Requirements\n",
    "- Python 3.6\n",
    "- Pandas\n",
    "- Numpy\n",
    "- Matplotlib\n",
    "- PyTorch\n",
    "- Scikit Learn"
   ]
  },
  {
   "cell_type": "markdown",
   "metadata": {},
   "source": [
    "### 2- Load Python modules and create input dataset"
   ]
  },
  {
   "cell_type": "code",
   "execution_count": 1,
   "metadata": {},
   "outputs": [],
   "source": [
    "# import package\n",
    "import pandas as pd\n",
    "import numpy as np\n",
    "import torch\n",
    "import pickle\n",
    "\n",
    "import torch.nn as nn\n",
    "import torch.nn.functional as F\n",
    "import matplotlib.pyplot as plt\n",
    "\n",
    "from sklearn.utils import shuffle\n",
    "from sklearn.metrics import mean_squared_error, r2_score\n",
    "from torch.autograd import Variable\n",
    "\n",
    "# set numpy seed for reproducibility\n",
    "np.random.seed(seed=123)"
   ]
  },
  {
   "cell_type": "code",
   "execution_count": 2,
   "metadata": {},
   "outputs": [],
   "source": [
    "# Create input dataset\n",
    "dataset = [[1.0, 1, -1, -1],\n",
    "          [-1, -1, 1, 1],\n",
    "          [-1, -1, 1, 1],\n",
    "          [1, 1, -1, -1],\n",
    "          [1, 0, -1, -1],\n",
    "          [1, 1, 0, -1],\n",
    "          [0, 1, -1, -1],\n",
    "          [1, 1, -1, 0]]"
   ]
  },
  {
   "cell_type": "code",
   "execution_count": 3,
   "metadata": {},
   "outputs": [],
   "source": [
    "# create X_train and y_train (x_train = y_train)\n",
    "x_train = dataset\n",
    "y_train = dataset"
   ]
  },
  {
   "cell_type": "markdown",
   "metadata": {},
   "source": [
    "### 3- Create model"
   ]
  },
  {
   "cell_type": "code",
   "execution_count": 4,
   "metadata": {},
   "outputs": [],
   "source": [
    "# set model parameters\n",
    "batch_size = len(x_train)\n",
    "num_epochs = 100\n",
    "learning_rate = 0.01\n",
    "size_hidden = 100\n",
    "dim_in = 4\n",
    "dim_out = 4\n",
    "batch_no = int(len(x_train) / batch_size)"
   ]
  },
  {
   "cell_type": "code",
   "execution_count": 5,
   "metadata": {},
   "outputs": [],
   "source": [
    "# create network architecture \n",
    "class VAE(nn.Module):\n",
    "    def __init__(self):\n",
    "        super(VAE, self).__init__()\n",
    "\n",
    "        self.fc1 = nn.Linear(dim_in, 100)\n",
    "        self.fc21 = nn.Linear(100, 20)\n",
    "        self.fc22 = nn.Linear(100, 20)\n",
    "        self.fc3 = nn.Linear(20, 100)\n",
    "        self.fc4 = nn.Linear(100, dim_out)\n",
    "\n",
    "    def encode(self, x):\n",
    "        h1 = F.relu(self.fc1(x))\n",
    "        return self.fc21(h1), self.fc22(h1)\n",
    "\n",
    "    def reparametrize(self, mu, logvar):\n",
    "        std = logvar.mul(0.5).exp_()\n",
    "        eps = torch.FloatTensor(std.size()).normal_()\n",
    "        eps = Variable(eps)\n",
    "        return eps.mul(std).add_(mu)\n",
    "\n",
    "    def decode(self, z):\n",
    "        h3 = F.relu(self.fc3(z))\n",
    "        return self.fc4(h3)\n",
    "\n",
    "    def forward(self, x):\n",
    "        mu, logvar = self.encode(x)\n",
    "        z = self.reparametrize(mu, logvar)\n",
    "        return self.decode(z), mu, logvar\n",
    "\n",
    "# create network\n",
    "net = VAE()"
   ]
  },
  {
   "cell_type": "code",
   "execution_count": 6,
   "metadata": {},
   "outputs": [],
   "source": [
    "# define loss\n",
    "criterion = nn.MSELoss()\n",
    "\n",
    "def loss_function(output, x, mu, logvar):\n",
    "    \"\"\"\n",
    "    output: output\n",
    "    x: input\n",
    "    mu: latent mean\n",
    "    logvar: latent log variance\n",
    "    \"\"\"\n",
    "    BCE = criterion(output, x)  # mse loss\n",
    "    # loss = 0.5 * sum(1 + log(sigma^2) - mu^2 - sigma^2)\n",
    "    KLD_element = mu.pow(2).add_(logvar.exp()).mul_(-1).add_(1).add_(logvar)\n",
    "    KLD = torch.sum(KLD_element).mul_(-0.5)\n",
    "    # KL divergence\n",
    "    return BCE + KLD"
   ]
  },
  {
   "cell_type": "code",
   "execution_count": 7,
   "metadata": {},
   "outputs": [],
   "source": [
    "# define optimizer\n",
    "optimizer = torch.optim.Adam(net.parameters(), lr=learning_rate)"
   ]
  },
  {
   "cell_type": "markdown",
   "metadata": {},
   "source": [
    "### 4- Train Model"
   ]
  },
  {
   "cell_type": "code",
   "execution_count": 8,
   "metadata": {},
   "outputs": [
    {
     "name": "stdout",
     "output_type": "stream",
     "text": [
      "Epoch 10 loss:  1.5535635948181152\n",
      "Epoch 20 loss:  0.9596548080444336\n",
      "Epoch 30 loss:  1.0057445764541626\n",
      "Epoch 40 loss:  0.7964771389961243\n",
      "Epoch 50 loss:  0.7632679343223572\n",
      "Epoch 60 loss:  0.7467060089111328\n",
      "Epoch 70 loss:  0.78895103931427\n",
      "Epoch 80 loss:  0.9731233716011047\n",
      "Epoch 90 loss:  0.8313513398170471\n",
      "Epoch 100 loss:  0.6117311120033264\n"
     ]
    }
   ],
   "source": [
    "# Start training\n",
    "epoch_loss = []\n",
    "running_loss = 0\n",
    "\n",
    "for epoch in range(num_epochs):\n",
    "    \n",
    "    for i in range(batch_no):\n",
    "        # get training mini-batch\n",
    "        start = i * batch_size\n",
    "        end = start + batch_size\n",
    "        inputs = Variable(torch.tensor(x_train[start:end]).float())\n",
    "        labels = Variable(torch.tensor(y_train[start:end]).float())\n",
    "        \n",
    "        # zero the parameter gradients\n",
    "        optimizer.zero_grad()\n",
    "        \n",
    "        # forward\n",
    "        output_batch, mu, logvar = net(inputs)\n",
    "        \n",
    "        # backward\n",
    "        loss = loss_function(output_batch, inputs, mu, logvar)\n",
    "        loss.backward()\n",
    "        \n",
    "        # optimize (update weights)\n",
    "        optimizer.step()\n",
    "        \n",
    "        # increment loss\n",
    "        running_loss += loss.item()\n",
    "    \n",
    "    if (epoch+1) % 10 == 0:    \n",
    "        print('Epoch {}'.format(epoch+1), \"loss: \", running_loss)\n",
    "    epoch_loss.append(running_loss)\n",
    "    running_loss = 0.0"
   ]
  },
  {
   "cell_type": "markdown",
   "metadata": {},
   "source": [
    "### 5- Evaluate Model"
   ]
  },
  {
   "cell_type": "code",
   "execution_count": 9,
   "metadata": {},
   "outputs": [
    {
     "name": "stdout",
     "output_type": "stream",
     "text": [
      "R2 Score: -15.129394152532711\n",
      "MSE: 0.651614939951418\n"
     ]
    }
   ],
   "source": [
    "# get accuracy on test set\n",
    "preds, _, __ = net(torch.tensor(x_train).float())\n",
    "preds = preds.detach().numpy()\n",
    "\n",
    "print (\"R2 Score: {0}\".format(r2_score(preds, np.array(x_train))))\n",
    "print (\"MSE: {0}\".format(mean_squared_error(preds, np.array(x_train))))"
   ]
  },
  {
   "cell_type": "code",
   "execution_count": 10,
   "metadata": {},
   "outputs": [
    {
     "data": {
      "image/png": "[encoded data removed]",
      "text/plain": [
       "<Figure size 432x288 with 1 Axes>"
      ]
     },
     "metadata": {
      "needs_background": "light"
     },
     "output_type": "display_data"
    }
   ],
   "source": [
    "# show loss\n",
    "plt.plot(epoch_loss)\n",
    "plt.title('Model error diagnostic\\n')\n",
    "plt.ylabel('loss')\n",
    "plt.xlabel('epoch')\n",
    "plt.show()"
   ]
  },
  {
   "cell_type": "markdown",
   "metadata": {},
   "source": [
    "### 6- Save and load model weights to predict new cases"
   ]
  },
  {
   "cell_type": "code",
   "execution_count": 11,
   "metadata": {},
   "outputs": [
    {
     "name": "stdout",
     "output_type": "stream",
     "text": [
      "predict: [[ 0.6009382   0.34126613 -0.5210796  -0.6064363 ]]\n",
      "predict: [[ 0.37241232  0.23742068 -0.509454   -0.32861075]]\n"
     ]
    }
   ],
   "source": [
    "# Save model\n",
    "pickle.dump(net, open(\"../model/var_autoencoder.p\", \"wb\"))\n",
    "\n",
    "# load model\n",
    "loaded_net = pickle.load(open(\"../model/var_autoencoder.p\", \"rb\"))\n",
    "\n",
    "# make prediction on trained model\n",
    "pred, _, __ = net(torch.tensor([[1.0, 1, -1, -1]]).float())\n",
    "print (\"predict: {0}\".format(pred.detach().numpy()))\n",
    "\n",
    "# make prediction on loaded model\n",
    "pred, _, __ = loaded_net(torch.tensor([[1.0, 1, -1, -1]]).float())\n",
    "print (\"predict: {0}\".format(pred.detach().numpy()))"
   ]
  },
  {
   "cell_type": "code",
   "execution_count": null,
   "metadata": {},
   "outputs": [],
   "source": []
  }
 ],
 "metadata": {
  "kernelspec": {
   "display_name": "Python 3",
   "language": "python",
   "name": "python3"
  },
  "language_info": {
   "codemirror_mode": {
    "name": "ipython",
    "version": 3
   },
   "file_extension": ".py",
   "mimetype": "text/x-python",
   "name": "python",
   "nbconvert_exporter": "python",
   "pygments_lexer": "ipython3",
   "version": "3.6.7"
  }
 },
 "nbformat": 4,
 "nbformat_minor": 2
}
