{
 "cells": [
  {
   "cell_type": "markdown",
   "metadata": {},
   "source": [
    "## Predicting the Survival of Titanic Passengers\n",
    "\n",
    "In this post, I show an example of using Deep Learning techniques with PyTorch to identify who survived on Titanic. \n",
    "The example assume that you are familiar with the theory of the neural networks and Python.\n",
    "\n",
    "I will use a Muli-Layer Neural Networks and the famous Titanic dataset, which provides information on the fate of passengers on the Titanic, summarized according to economic status (class), sex, age and survival."
   ]
  },
  {
   "cell_type": "markdown",
   "metadata": {},
   "source": [
    "### Overview\n",
    "- Requirements\n",
    "- Load Python modules and dataset\n",
    "- Prepare data\n",
    "- Create model\n",
    "- Train Model\n",
    "- Evaluate Model\n",
    "- Save and load model weights to predict new cases"
   ]
  },
  {
   "cell_type": "markdown",
   "metadata": {},
   "source": [
    "### 1- Requirements\n",
    "- Python 3.6\n",
    "- Pandas\n",
    "- Numpy\n",
    "- Matplotlib\n",
    "- PyTorch\n",
    "- Scikit Learn\n",
    "- Titanic dataset"
   ]
  },
  {
   "cell_type": "markdown",
   "metadata": {},
   "source": [
    "### 2- Load Python modules and dataset"
   ]
  },
  {
   "cell_type": "code",
   "execution_count": 1,
   "metadata": {},
   "outputs": [],
   "source": [
    "# import package\n",
    "import pandas as pd\n",
    "import numpy as np\n",
    "import torch\n",
    "import pickle\n",
    "\n",
    "import torch.nn as nn\n",
    "import torch.nn.functional as F\n",
    "import matplotlib.pyplot as plt\n",
    "\n",
    "from sklearn.utils import shuffle\n",
    "from sklearn.metrics import accuracy_score\n",
    "from torch.autograd import Variable\n",
    "\n",
    "# set numpy seed for reproducibility\n",
    "np.random.seed(seed=123)"
   ]
  },
  {
   "cell_type": "code",
   "execution_count": 2,
   "metadata": {},
   "outputs": [
    {
     "data": {
      "text/html": [
       "<div>\n",
       "<style scoped>\n",
       "    .dataframe tbody tr th:only-of-type {\n",
       "        vertical-align: middle;\n",
       "    }\n",
       "\n",
       "    .dataframe tbody tr th {\n",
       "        vertical-align: top;\n",
       "    }\n",
       "\n",
       "    .dataframe thead th {\n",
       "        text-align: right;\n",
       "    }\n",
       "</style>\n",
       "<table border=\"1\" class=\"dataframe\">\n",
       "  <thead>\n",
       "    <tr style=\"text-align: right;\">\n",
       "      <th></th>\n",
       "      <th>Pclass</th>\n",
       "      <th>Sex</th>\n",
       "      <th>Age</th>\n",
       "      <th>SibSp</th>\n",
       "      <th>Parch</th>\n",
       "      <th>Fare</th>\n",
       "      <th>Survived</th>\n",
       "    </tr>\n",
       "  </thead>\n",
       "  <tbody>\n",
       "    <tr>\n",
       "      <th>0</th>\n",
       "      <td>3</td>\n",
       "      <td>male</td>\n",
       "      <td>22.0</td>\n",
       "      <td>1</td>\n",
       "      <td>0</td>\n",
       "      <td>7.2500</td>\n",
       "      <td>0</td>\n",
       "    </tr>\n",
       "    <tr>\n",
       "      <th>1</th>\n",
       "      <td>1</td>\n",
       "      <td>female</td>\n",
       "      <td>38.0</td>\n",
       "      <td>1</td>\n",
       "      <td>0</td>\n",
       "      <td>71.2833</td>\n",
       "      <td>1</td>\n",
       "    </tr>\n",
       "    <tr>\n",
       "      <th>2</th>\n",
       "      <td>3</td>\n",
       "      <td>female</td>\n",
       "      <td>26.0</td>\n",
       "      <td>0</td>\n",
       "      <td>0</td>\n",
       "      <td>7.9250</td>\n",
       "      <td>1</td>\n",
       "    </tr>\n",
       "    <tr>\n",
       "      <th>3</th>\n",
       "      <td>1</td>\n",
       "      <td>female</td>\n",
       "      <td>35.0</td>\n",
       "      <td>1</td>\n",
       "      <td>0</td>\n",
       "      <td>53.1000</td>\n",
       "      <td>1</td>\n",
       "    </tr>\n",
       "    <tr>\n",
       "      <th>4</th>\n",
       "      <td>3</td>\n",
       "      <td>male</td>\n",
       "      <td>35.0</td>\n",
       "      <td>0</td>\n",
       "      <td>0</td>\n",
       "      <td>8.0500</td>\n",
       "      <td>0</td>\n",
       "    </tr>\n",
       "  </tbody>\n",
       "</table>\n",
       "</div>"
      ],
      "text/plain": [
       "   Pclass     Sex   Age  SibSp  Parch     Fare  Survived\n",
       "0       3    male  22.0      1      0   7.2500         0\n",
       "1       1  female  38.0      1      0  71.2833         1\n",
       "2       3  female  26.0      0      0   7.9250         1\n",
       "3       1  female  35.0      1      0  53.1000         1\n",
       "4       3    male  35.0      0      0   8.0500         0"
      ]
     },
     "execution_count": 2,
     "metadata": {},
     "output_type": "execute_result"
    }
   ],
   "source": [
    "# Load dataset\n",
    "dataset = pd.read_csv(\"../data/titanic.csv\", sep=',')[['Pclass', 'Sex', 'Age', 'SibSp', 'Parch', 'Fare', 'Survived']]\n",
    "dataset.head()"
   ]
  },
  {
   "cell_type": "markdown",
   "metadata": {},
   "source": [
    "### 3- Prepare data"
   ]
  },
  {
   "cell_type": "code",
   "execution_count": 3,
   "metadata": {},
   "outputs": [
    {
     "data": {
      "text/html": [
       "<div>\n",
       "<style scoped>\n",
       "    .dataframe tbody tr th:only-of-type {\n",
       "        vertical-align: middle;\n",
       "    }\n",
       "\n",
       "    .dataframe tbody tr th {\n",
       "        vertical-align: top;\n",
       "    }\n",
       "\n",
       "    .dataframe thead th {\n",
       "        text-align: right;\n",
       "    }\n",
       "</style>\n",
       "<table border=\"1\" class=\"dataframe\">\n",
       "  <thead>\n",
       "    <tr style=\"text-align: right;\">\n",
       "      <th></th>\n",
       "      <th>Pclass</th>\n",
       "      <th>Sex_male</th>\n",
       "      <th>Sex_female</th>\n",
       "      <th>Age</th>\n",
       "      <th>Survived</th>\n",
       "    </tr>\n",
       "  </thead>\n",
       "  <tbody>\n",
       "    <tr>\n",
       "      <th>count</th>\n",
       "      <td>891.000000</td>\n",
       "      <td>891.000000</td>\n",
       "      <td>891.000000</td>\n",
       "      <td>891.000000</td>\n",
       "      <td>891.000000</td>\n",
       "    </tr>\n",
       "    <tr>\n",
       "      <th>mean</th>\n",
       "      <td>2.308642</td>\n",
       "      <td>0.647587</td>\n",
       "      <td>0.352413</td>\n",
       "      <td>29.699118</td>\n",
       "      <td>0.383838</td>\n",
       "    </tr>\n",
       "    <tr>\n",
       "      <th>std</th>\n",
       "      <td>0.836071</td>\n",
       "      <td>0.477990</td>\n",
       "      <td>0.477990</td>\n",
       "      <td>13.002015</td>\n",
       "      <td>0.486592</td>\n",
       "    </tr>\n",
       "    <tr>\n",
       "      <th>min</th>\n",
       "      <td>1.000000</td>\n",
       "      <td>0.000000</td>\n",
       "      <td>0.000000</td>\n",
       "      <td>0.420000</td>\n",
       "      <td>0.000000</td>\n",
       "    </tr>\n",
       "    <tr>\n",
       "      <th>25%</th>\n",
       "      <td>2.000000</td>\n",
       "      <td>0.000000</td>\n",
       "      <td>0.000000</td>\n",
       "      <td>22.000000</td>\n",
       "      <td>0.000000</td>\n",
       "    </tr>\n",
       "    <tr>\n",
       "      <th>50%</th>\n",
       "      <td>3.000000</td>\n",
       "      <td>1.000000</td>\n",
       "      <td>0.000000</td>\n",
       "      <td>29.699118</td>\n",
       "      <td>0.000000</td>\n",
       "    </tr>\n",
       "    <tr>\n",
       "      <th>75%</th>\n",
       "      <td>3.000000</td>\n",
       "      <td>1.000000</td>\n",
       "      <td>1.000000</td>\n",
       "      <td>35.000000</td>\n",
       "      <td>1.000000</td>\n",
       "    </tr>\n",
       "    <tr>\n",
       "      <th>max</th>\n",
       "      <td>3.000000</td>\n",
       "      <td>1.000000</td>\n",
       "      <td>1.000000</td>\n",
       "      <td>80.000000</td>\n",
       "      <td>1.000000</td>\n",
       "    </tr>\n",
       "  </tbody>\n",
       "</table>\n",
       "</div>"
      ],
      "text/plain": [
       "           Pclass    Sex_male  Sex_female         Age    Survived\n",
       "count  891.000000  891.000000  891.000000  891.000000  891.000000\n",
       "mean     2.308642    0.647587    0.352413   29.699118    0.383838\n",
       "std      0.836071    0.477990    0.477990   13.002015    0.486592\n",
       "min      1.000000    0.000000    0.000000    0.420000    0.000000\n",
       "25%      2.000000    0.000000    0.000000   22.000000    0.000000\n",
       "50%      3.000000    1.000000    0.000000   29.699118    0.000000\n",
       "75%      3.000000    1.000000    1.000000   35.000000    1.000000\n",
       "max      3.000000    1.000000    1.000000   80.000000    1.000000"
      ]
     },
     "execution_count": 3,
     "metadata": {},
     "output_type": "execute_result"
    }
   ],
   "source": [
    "# replace NA with mean\n",
    "dataset['Age'].fillna((dataset['Age'].mean()), inplace=True)\n",
    "\n",
    "# create dummies values for sex\n",
    "dataset = pd.get_dummies(dataset, prefix=['Sex'])\n",
    "\n",
    "# get training dataset\n",
    "dataset = dataset[['Pclass', 'Sex_male', 'Sex_female', 'Age', 'Survived']]\n",
    "\n",
    "# describe dataset\n",
    "dataset.describe()"
   ]
  },
  {
   "cell_type": "code",
   "execution_count": 4,
   "metadata": {},
   "outputs": [
    {
     "data": {
      "text/plain": [
       "array([[ 3.        ,  1.        ,  0.        , 22.        ,  0.        ],\n",
       "       [ 1.        ,  0.        ,  1.        , 38.        ,  1.        ],\n",
       "       [ 3.        ,  0.        ,  1.        , 26.        ,  1.        ],\n",
       "       ...,\n",
       "       [ 3.        ,  0.        ,  1.        , 29.69911765,  0.        ],\n",
       "       [ 1.        ,  1.        ,  0.        , 26.        ,  1.        ],\n",
       "       [ 3.        ,  1.        ,  0.        , 32.        ,  0.        ]])"
      ]
     },
     "execution_count": 4,
     "metadata": {},
     "output_type": "execute_result"
    }
   ],
   "source": [
    "# get numpy array\n",
    "dataset = dataset.values\n",
    "dataset"
   ]
  },
  {
   "cell_type": "code",
   "execution_count": 5,
   "metadata": {},
   "outputs": [
    {
     "name": "stdout",
     "output_type": "stream",
     "text": [
      "Dataset size: 891. Train size: 712 - Test size: 179\n"
     ]
    }
   ],
   "source": [
    "# split dataset to train (80%) and test (20%) \n",
    "train_size = 0.8\n",
    "train_size = int(len(dataset) * train_size)\n",
    "np.random.shuffle(dataset)\n",
    "train, test = dataset[:train_size,:], dataset[train_size:,:]\n",
    "print ('Dataset size: {0}. Train size: {1} - Test size: {2}'.format(len(dataset), len(train), len(test)))"
   ]
  },
  {
   "cell_type": "code",
   "execution_count": 6,
   "metadata": {},
   "outputs": [],
   "source": [
    "# get train and set data into numpy nd.array\n",
    "x_train = train[:,:4]\n",
    "x_test = test[:,:4]\n",
    "y_train = train[:,4]\n",
    "y_test = test[:,4]"
   ]
  },
  {
   "cell_type": "markdown",
   "metadata": {},
   "source": [
    "### 4- Create model"
   ]
  },
  {
   "cell_type": "code",
   "execution_count": 7,
   "metadata": {},
   "outputs": [],
   "source": [
    "# set model parameters\n",
    "batch_size = len(x_train)\n",
    "num_epochs = 2000\n",
    "learning_rate = 0.01\n",
    "dim_in = 4\n",
    "dim_out = 2\n",
    "batch_no = int(len(x_train) / batch_size)"
   ]
  },
  {
   "cell_type": "code",
   "execution_count": 8,
   "metadata": {},
   "outputs": [],
   "source": [
    "# create network architecture\n",
    "class Binary_Classifier(nn.Module):\n",
    "    def __init__(self):\n",
    "        super(Binary_Classifier, self).__init__()\n",
    "        self.predictor = nn.Sequential(\n",
    "            nn.Linear(dim_in, 100),\n",
    "            nn.Linear(100, 200),\n",
    "            nn.ReLU(),\n",
    "            nn.Linear(200, dim_out),\n",
    "            nn.Sigmoid())\n",
    "\n",
    "    def forward(self, x):\n",
    "        x = self.predictor(x)\n",
    "        return x\n",
    "\n",
    "# create network\n",
    "net = Binary_Classifier()"
   ]
  },
  {
   "cell_type": "code",
   "execution_count": 9,
   "metadata": {},
   "outputs": [],
   "source": [
    "# define loss \n",
    "criterion = torch.nn.CrossEntropyLoss()"
   ]
  },
  {
   "cell_type": "code",
   "execution_count": 10,
   "metadata": {},
   "outputs": [],
   "source": [
    "# define optimizer\n",
    "optimizer = torch.optim.SGD(net.parameters(), lr=learning_rate)"
   ]
  },
  {
   "cell_type": "markdown",
   "metadata": {},
   "source": [
    "### 5- Train Model"
   ]
  },
  {
   "cell_type": "code",
   "execution_count": 11,
   "metadata": {},
   "outputs": [
    {
     "name": "stdout",
     "output_type": "stream",
     "text": [
      "Epoch 1 loss:  0.8215602040290833\n",
      "Epoch 101 loss:  0.6420473456382751\n",
      "Epoch 201 loss:  0.6324874758720398\n",
      "Epoch 301 loss:  0.6235003471374512\n",
      "Epoch 401 loss:  0.614271342754364\n",
      "Epoch 501 loss:  0.6027585864067078\n",
      "Epoch 601 loss:  0.5892443060874939\n",
      "Epoch 701 loss:  0.5857865214347839\n",
      "Epoch 801 loss:  0.5817710757255554\n",
      "Epoch 901 loss:  0.5771498680114746\n",
      "Epoch 1001 loss:  0.5722084641456604\n",
      "Epoch 1101 loss:  0.567013144493103\n",
      "Epoch 1201 loss:  0.5616717338562012\n",
      "Epoch 1301 loss:  0.5562944412231445\n",
      "Epoch 1401 loss:  0.550491988658905\n",
      "Epoch 1501 loss:  0.5440226197242737\n",
      "Epoch 1601 loss:  0.5359313488006592\n",
      "Epoch 1701 loss:  0.5238905549049377\n",
      "Epoch 1801 loss:  0.5155330896377563\n",
      "Epoch 1901 loss:  0.5140929818153381\n"
     ]
    }
   ],
   "source": [
    "running_loss = 0.0\n",
    "epoch_loss = []\n",
    "\n",
    "for epoch in range(num_epochs):\n",
    "    \n",
    "    for i in range(batch_no):\n",
    "        # get mini-batch of train data\n",
    "        start = i * batch_size\n",
    "        end = start + batch_size\n",
    "        inputs = Variable(torch.tensor(x_train[start:end]).float())\n",
    "        labels = Variable(torch.tensor(y_train[start:end]).long())\n",
    "        \n",
    "        # zero the parameter gradients\n",
    "        optimizer.zero_grad()\n",
    "\n",
    "        # forward \n",
    "        outputs = net(inputs)\n",
    "        \n",
    "        # backward\n",
    "        loss = criterion(outputs, labels)\n",
    "        loss.backward()\n",
    "        \n",
    "        # optimize (update weights)\n",
    "        optimizer.step()\n",
    "\n",
    "        # increment epoch loss\n",
    "        running_loss += loss.item()\n",
    "    \n",
    "    # show loss after each 100 epoch\n",
    "    if epoch % 100 == 0:\n",
    "        print('Epoch {}'.format(epoch+1), \"loss: \", running_loss)\n",
    "    \n",
    "    # initialize loss\n",
    "    epoch_loss.append(running_loss)\n",
    "    running_loss = 0.0    "
   ]
  },
  {
   "cell_type": "markdown",
   "metadata": {},
   "source": [
    "### 6- Evaluate Model"
   ]
  },
  {
   "cell_type": "code",
   "execution_count": 12,
   "metadata": {},
   "outputs": [
    {
     "name": "stdout",
     "output_type": "stream",
     "text": [
      "0.776536312849162\n"
     ]
    }
   ],
   "source": [
    "# get accuracy on test set\n",
    "preds = net(torch.tensor(x_test).float())\n",
    "y_proba, y_pred = torch.max(preds, 1)\n",
    "\n",
    "print (accuracy_score(y_test, y_pred))"
   ]
  },
  {
   "cell_type": "code",
   "execution_count": 13,
   "metadata": {},
   "outputs": [
    {
     "data": {
      "image/png": "[encoded data removed]",
      "text/plain": [
       "<Figure size 432x288 with 1 Axes>"
      ]
     },
     "metadata": {
      "needs_background": "light"
     },
     "output_type": "display_data"
    }
   ],
   "source": [
    "plt.plot(epoch_loss)\n",
    "plt.title('Model error diagnostic\\n')\n",
    "plt.ylabel('loss')\n",
    "plt.xlabel('epoch')\n",
    "plt.show()"
   ]
  },
  {
   "cell_type": "markdown",
   "metadata": {},
   "source": [
    "### 7- Save and load model weights to predict new cases"
   ]
  },
  {
   "cell_type": "code",
   "execution_count": 14,
   "metadata": {},
   "outputs": [
    {
     "name": "stdout",
     "output_type": "stream",
     "text": [
      "predict: 1 with proba: 0.7175785303115845\n",
      "predict: 1 with proba: 0.7175785303115845\n"
     ]
    }
   ],
   "source": [
    "# Save model\n",
    "pickle.dump(net, open(\"../model/binary_classifier.p\", \"wb\"))\n",
    "\n",
    "# load model\n",
    "loaded_net = pickle.load(open(\"../model/binary_classifier.p\", \"rb\"))\n",
    "\n",
    "# make prediction on trained model\n",
    "pred = net(torch.tensor([[ 3., 0., 1., 1.]]).float())\n",
    "y_proba, y_pred = torch.max(pred, 1)\n",
    "print (\"predict: {0} with proba: {1}\".format(y_pred.detach().numpy()[0], y_proba.detach().numpy()[0]))\n",
    "\n",
    "# make prediction on loaded model\n",
    "pred = loaded_net(torch.tensor([[ 3., 0., 1., 1.]]).float())\n",
    "y_proba, y_pred = torch.max(pred, 1)\n",
    "print (\"predict: {0} with proba: {1}\".format(y_pred.detach().numpy()[0], y_proba.detach().numpy()[0]))"
   ]
  },
  {
   "cell_type": "code",
   "execution_count": null,
   "metadata": {},
   "outputs": [],
   "source": []
  }
 ],
 "metadata": {
  "kernelspec": {
   "display_name": "Python 3",
   "language": "python",
   "name": "python3"
  },
  "language_info": {
   "codemirror_mode": {
    "name": "ipython",
    "version": 3
   },
   "file_extension": ".py",
   "mimetype": "text/x-python",
   "name": "python",
   "nbconvert_exporter": "python",
   "pygments_lexer": "ipython3",
   "version": "3.6.7"
  }
 },
 "nbformat": 4,
 "nbformat_minor": 2
}
