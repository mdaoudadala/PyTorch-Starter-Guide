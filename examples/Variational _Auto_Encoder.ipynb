{
 "cells": [
  {
   "cell_type": "code",
   "execution_count": 7,
   "metadata": {},
   "outputs": [],
   "source": [
    "# import package\n",
    "import pandas as pd\n",
    "import numpy as np\n",
    "import torch\n",
    "from torch import nn\n",
    "import torch.nn.functional as F\n",
    "from torch.autograd import Variable\n",
    "\n",
    "import matplotlib.pyplot as plt\n",
    "\n",
    "# set numpy seed for reproducibility\n",
    "np.random.seed(seed=123)"
   ]
  },
  {
   "cell_type": "code",
   "execution_count": 8,
   "metadata": {},
   "outputs": [],
   "source": [
    "dataset = [[1.0, 1, -1, -1],\n",
    "          [-1, -1, 1, 1],\n",
    "          [-1, -1, 1, 1],\n",
    "          [1, 1, -1, -1],\n",
    "          [1, 0, -1, -1],\n",
    "          [1, 1, 0, -1],\n",
    "          [0, 1, -1, -1],\n",
    "          [1, 1, -1, 0]]"
   ]
  },
  {
   "cell_type": "code",
   "execution_count": 9,
   "metadata": {},
   "outputs": [],
   "source": [
    "x_train = dataset\n",
    "y_train = dataset"
   ]
  },
  {
   "cell_type": "code",
   "execution_count": 10,
   "metadata": {},
   "outputs": [],
   "source": [
    "batch_size = len(x_train) # 50\n",
    "num_epochs = 100\n",
    "learning_rate = 0.01\n",
    "size_hidden = 100\n",
    "n_feature = 4\n",
    "n_output = 4\n",
    "batch_no = int(len(x_train) / batch_size)"
   ]
  },
  {
   "cell_type": "code",
   "execution_count": 11,
   "metadata": {},
   "outputs": [],
   "source": [
    "dim_in = 4\n",
    "dim_out = 4"
   ]
  },
  {
   "cell_type": "code",
   "execution_count": 12,
   "metadata": {},
   "outputs": [],
   "source": [
    "class VAE(nn.Module):\n",
    "    def __init__(self):\n",
    "        super(VAE, self).__init__()\n",
    "\n",
    "        self.fc1 = nn.Linear(dim_in, 100)\n",
    "        self.fc21 = nn.Linear(100, 20)\n",
    "        self.fc22 = nn.Linear(100, 20)\n",
    "        self.fc3 = nn.Linear(20, 100)\n",
    "        self.fc4 = nn.Linear(100, dim_out)\n",
    "\n",
    "    def encode(self, x):\n",
    "        h1 = F.relu(self.fc1(x))\n",
    "        return self.fc21(h1), self.fc22(h1)\n",
    "\n",
    "    def reparametrize(self, mu, logvar):\n",
    "        std = logvar.mul(0.5).exp_()\n",
    "        eps = torch.FloatTensor(std.size()).normal_()\n",
    "        eps = Variable(eps)\n",
    "        return eps.mul(std).add_(mu)\n",
    "\n",
    "    def decode(self, z):\n",
    "        h3 = F.relu(self.fc3(z))\n",
    "        return self.fc4(h3)\n",
    "\n",
    "    def forward(self, x):\n",
    "        mu, logvar = self.encode(x)\n",
    "        z = self.reparametrize(mu, logvar)\n",
    "        return self.decode(z), mu, logvar\n",
    "\n",
    "net = VAE()"
   ]
  },
  {
   "cell_type": "code",
   "execution_count": 15,
   "metadata": {},
   "outputs": [],
   "source": [
    "criterion = nn.MSELoss()\n",
    "\n",
    "\n",
    "def loss_function(output, x, mu, logvar):\n",
    "    \"\"\"\n",
    "    output: output\n",
    "    x: input\n",
    "    mu: latent mean\n",
    "    logvar: latent log variance\n",
    "    \"\"\"\n",
    "    BCE = criterion(output, x)  # mse loss\n",
    "    # loss = 0.5 * sum(1 + log(sigma^2) - mu^2 - sigma^2)\n",
    "    KLD_element = mu.pow(2).add_(logvar.exp()).mul_(-1).add_(1).add_(logvar)\n",
    "    KLD = torch.sum(KLD_element).mul_(-0.5)\n",
    "    # KL divergence\n",
    "    return BCE + KLD\n",
    "\n",
    "\n",
    "optimizer = torch.optim.Adam(net.parameters(), lr=learning_rate)"
   ]
  },
  {
   "cell_type": "code",
   "execution_count": 19,
   "metadata": {},
   "outputs": [
    {
     "data": {
      "text/plain": [
       "(tensor([[0.0310, 0.1387, 0.0257, 0.1115]], grad_fn=<AddmmBackward>),\n",
       " tensor([[ 0.2270, -0.1846, -0.4204, -0.6794,  0.1242, -0.3953,  0.0740, -0.1034,\n",
       "           0.0511,  0.3149,  0.5216,  0.2645,  0.2418,  0.1490, -0.2263,  0.0878,\n",
       "          -0.6165, -0.5452,  0.0054, -0.0231]], grad_fn=<AddmmBackward>),\n",
       " tensor([[-1.7852e-01, -1.5408e-01, -6.4261e-05,  1.5969e-01, -2.8889e-01,\n",
       "           3.4127e-02, -1.4518e-01,  4.3779e-01, -1.2346e-02, -2.2461e-01,\n",
       "           5.3249e-03, -2.9938e-01,  3.2015e-01,  2.0181e-01, -1.3300e-01,\n",
       "          -1.5935e-01,  5.6809e-01, -5.3227e-02,  1.4094e-01, -3.5000e-01]],\n",
       "        grad_fn=<AddmmBackward>))"
      ]
     },
     "execution_count": 19,
     "metadata": {},
     "output_type": "execute_result"
    }
   ],
   "source": [
    "net(Variable(torch.tensor(x_train[0:1]).float()))"
   ]
  },
  {
   "cell_type": "code",
   "execution_count": 21,
   "metadata": {},
   "outputs": [
    {
     "name": "stdout",
     "output_type": "stream",
     "text": [
      "Epoch 1 loss:  9.872776985168457\n",
      "Epoch 11 loss:  1.537191390991211\n",
      "Epoch 21 loss:  1.0197230577468872\n",
      "Epoch 31 loss:  0.7133520841598511\n",
      "Epoch 41 loss:  0.7885348200798035\n",
      "Epoch 51 loss:  0.7978350520133972\n",
      "Epoch 61 loss:  0.6025741696357727\n",
      "Epoch 71 loss:  1.0374019145965576\n",
      "Epoch 81 loss:  0.7229259014129639\n",
      "Epoch 91 loss:  0.6768777966499329\n"
     ]
    }
   ],
   "source": [
    "running_loss = 0.0\n",
    "\n",
    "for epoch in range(num_epochs):\n",
    "    \n",
    "    for i in range(batch_no):\n",
    "        start = i * batch_size\n",
    "        end = start + batch_size\n",
    "        inputs = Variable(torch.tensor(x_train[start:end]).float())\n",
    "        labels = Variable(torch.tensor(y_train[start:end]).float())\n",
    "        \n",
    "        #net.train()\n",
    "        #train_loss = 0\n",
    "    \n",
    "        optimizer.zero_grad()\n",
    "        # recon_batch\n",
    "        output_batch, mu, logvar = net(inputs)\n",
    "        loss = loss_function(output_batch, inputs, mu, logvar)\n",
    "        loss.backward()\n",
    "        running_loss += loss.item()\n",
    "        optimizer.step()\n",
    "    \n",
    "    if epoch % 10 == 0:    \n",
    "        print('Epoch {}'.format(epoch+1), \"loss: \", running_loss)\n",
    "    running_loss = 0.0"
   ]
  },
  {
   "cell_type": "code",
   "execution_count": 24,
   "metadata": {},
   "outputs": [
    {
     "name": "stdout",
     "output_type": "stream",
     "text": [
      "tensor([[ 0.5354,  0.5857, -0.2769, -0.5899]], grad_fn=<AddmmBackward>)\n"
     ]
    }
   ],
   "source": [
    "pred, _, __ = net(Variable(torch.tensor([[1, 0, 0, 0]]).float()))\n",
    "print (pred)"
   ]
  },
  {
   "cell_type": "code",
   "execution_count": 25,
   "metadata": {},
   "outputs": [
    {
     "name": "stdout",
     "output_type": "stream",
     "text": [
      "tensor([[ 0.7115,  0.4597, -0.4149, -0.1969]])\n"
     ]
    }
   ],
   "source": [
    "pred, _, __ = net(Variable(torch.tensor([[1, 0, 0, 0]]).float()))\n",
    "print (pred.data)"
   ]
  },
  {
   "cell_type": "code",
   "execution_count": 26,
   "metadata": {},
   "outputs": [
    {
     "name": "stdout",
     "output_type": "stream",
     "text": [
      "tensor([[ 0.2998,  0.3850, -0.4192, -0.4222]])\n"
     ]
    }
   ],
   "source": [
    "pred, _, __ = net(Variable(torch.tensor([[0, 1, 0, 0]]).float()))\n",
    "print (pred.data)"
   ]
  },
  {
   "cell_type": "code",
   "execution_count": 27,
   "metadata": {},
   "outputs": [
    {
     "name": "stdout",
     "output_type": "stream",
     "text": [
      "tensor([[ 0.2683,  0.1296, -0.2164, -0.0694]])\n"
     ]
    }
   ],
   "source": [
    "pred, _, __ = net(Variable(torch.tensor([[0, 0, -1, 0]]).float()))\n",
    "print (pred.data)"
   ]
  },
  {
   "cell_type": "code",
   "execution_count": 28,
   "metadata": {},
   "outputs": [
    {
     "name": "stdout",
     "output_type": "stream",
     "text": [
      "tensor([[ 0.0533,  0.0750, -0.0284, -0.0880]])\n"
     ]
    }
   ],
   "source": [
    "pred, _, __ = net(Variable(torch.tensor([[0, 0, 0, -1]]).float()))\n",
    "print (pred.data)"
   ]
  },
  {
   "cell_type": "code",
   "execution_count": 30,
   "metadata": {},
   "outputs": [
    {
     "data": {
      "text/plain": [
       "tensor([[ 0.0436,  0.0459, -0.1022, -0.0577,  0.0004,  0.0234,  0.0432, -0.1221,\n",
       "          0.0405,  0.0554, -0.0554,  0.0557,  0.0374,  0.0171,  0.1135,  0.1049,\n",
       "         -0.0231, -0.0089,  0.0698,  0.0623]], grad_fn=<AddmmBackward>)"
      ]
     },
     "execution_count": 30,
     "metadata": {},
     "output_type": "execute_result"
    }
   ],
   "source": [
    "__"
   ]
  }
 ],
 "metadata": {
  "kernelspec": {
   "display_name": "Python 3",
   "language": "python",
   "name": "python3"
  },
  "language_info": {
   "codemirror_mode": {
    "name": "ipython",
    "version": 3
   },
   "file_extension": ".py",
   "mimetype": "text/x-python",
   "name": "python",
   "nbconvert_exporter": "python",
   "pygments_lexer": "ipython3",
   "version": "3.6.7"
  }
 },
 "nbformat": 4,
 "nbformat_minor": 2
}
